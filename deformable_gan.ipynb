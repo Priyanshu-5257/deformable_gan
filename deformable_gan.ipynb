{
 "cells": [
  {
   "cell_type": "code",
   "execution_count": 1,
   "id": "724fa55b",
   "metadata": {},
   "outputs": [],
   "source": [
    "import torch\n",
    "import torchvision \n",
    "import torch.nn as nn\n",
    "import torch.nn.functional as F\n",
    "import torch.optim as optim"
   ]
  },
  {
   "cell_type": "code",
   "execution_count": 2,
   "id": "2e4e62dd",
   "metadata": {},
   "outputs": [],
   "source": [
    "import os \n",
    "import cv2\n",
    "import torch\n",
    "from torch.utils.data import Dataset,DataLoader\n",
    "import numpy as np\n",
    "import glob"
   ]
  },
  {
   "cell_type": "code",
   "execution_count": 3,
   "id": "18959635",
   "metadata": {},
   "outputs": [],
   "source": [
    "from torchvision import datasets, transforms\n",
    "from torch.autograd import Variable"
   ]
  },
  {
   "cell_type": "code",
   "execution_count": 4,
   "id": "fd9c86df",
   "metadata": {},
   "outputs": [],
   "source": [
    "class CustomDataset(Dataset):\n",
    "    def __init__(self):\n",
    "        self.imgs_path = 'gan_data/'\n",
    "        file_list = glob.glob(self.imgs_path + \"*\")\n",
    "        self.data=[]\n",
    "        for class_path in file_list:\n",
    "            for img_path,img_H,img_pose in zip(glob.glob(class_path + \"/*.jpg\"),glob.glob(class_path + \"/*).npy\"),glob.glob(class_path + \"/*pose.npy\")):\n",
    "                for img1_path,img1_H,img1_pose in zip(glob.glob(class_path + \"/*.jpg\"),glob.glob(class_path + \"/*).npy\"),glob.glob(class_path + \"/*pose.npy\")):\n",
    "                    if img_path != img1_path :\n",
    "                        self.data.append([img_path,img_H,img_pose,img1_path,img1_H,img1_pose])\n",
    "        self.img_dim = (72,128)\n",
    "    def __len__(self):\n",
    "        return len(self.data)\n",
    "    def __getitem__(self,idx):\n",
    "        img_path,z_path,img_pose_path,img1_path,z1_path,img1_pose_path = self.data[idx]\n",
    "        img = cv2.imread(img_path)\n",
    "        img = cv2.resize(img,self.img_dim)\n",
    "        img_tensor = torch.from_numpy(img)\n",
    "        z_ = np.load(z_path)\n",
    "        z_= z_.astype(np.float32)\n",
    "        \n",
    "        z_tensor = torch.from_numpy(z_)\n",
    "        img_pose = np.load(img_pose_path)\n",
    "        img_pose_tensor = torch.from_numpy(img_pose)\n",
    "        \n",
    "        img1 = cv2.imread(img1_path)\n",
    "        img1 = cv2.resize(img1,self.img_dim)\n",
    "        img1_tensor = torch.from_numpy(img1)\n",
    "        z1_ = np.load(z1_path)\n",
    "        z1_= z1_.astype(np.float32)\n",
    "        z1_tensor = torch.from_numpy(z1_)\n",
    "        img1_pose = np.load(img1_pose_path)\n",
    "        img1_pose_tensor = torch.from_numpy(img1_pose)\n",
    "        return img_tensor,z_tensor,img_pose_tensor,img1_tensor,z1_tensor,img1_pose_tensor"
   ]
  },
  {
   "cell_type": "code",
   "execution_count": 5,
   "id": "e9206484",
   "metadata": {},
   "outputs": [],
   "source": [
    "device =torch.device('cuda' if torch.cuda.is_available() else 'cpu')"
   ]
  },
  {
   "cell_type": "code",
   "execution_count": 6,
   "id": "caaaf54d",
   "metadata": {},
   "outputs": [],
   "source": [
    "class Generator(nn.Module):\n",
    "    def __init__(self):\n",
    "        super(Generator,self).__init__()\n",
    "        self.conv1  = nn.Conv2d(4,16,3)\n",
    "        self.conv2  = nn.Conv2d(16,32,5)\n",
    "        self.conv3  = nn.Conv2d(32,64,10)\n",
    "        self.conv4  = nn.Conv2d(64,64,12)\n",
    "        #self.pool = nn.MaxPool2d(2,return_indices=True)\n",
    "        \n",
    "        self.fc1 = nn.Linear(1046784,16)\n",
    "        #self.fc2 = nn.Linear(240,64)\n",
    "        #self.fc3 = nn.Linear(240,16)\n",
    "        \n",
    "        #self.fc_ = nn.Linear(16,16)\n",
    "        \n",
    "        #self.fcT1 = nn.Linear(16,240)\n",
    "        #self.fcT2 = nn.Linear(64,240)\n",
    "        self.fcT3 = nn.Linear(16,1046784)\n",
    "        \n",
    "        \n",
    "        self.convT1 = nn.ConvTranspose2d(64,64,12)\n",
    "        self.convT2 = nn.ConvTranspose2d(64,32,10)\n",
    "        self.convT3 = nn.ConvTranspose2d(32,16,5)\n",
    "        self.convT4 = nn.ConvTranspose2d(16,3,3)\n",
    "        #self.unpool = nn.MaxUnpool2d(2)\n",
    "        \n",
    "        \n",
    "    def forward(self,x) :\n",
    "        \n",
    "        x = x.permute(0,3, 1, 2)\n",
    "        x = (F.relu(self.conv1(x)))\n",
    "        x = (F.relu(self.conv2(x)))\n",
    "        x = (F.relu(self.conv3(x)))\n",
    "        x = F.relu(self.conv4(x))\n",
    "        x = torch.flatten(x,1)\n",
    "        x = F.relu(self.fc1(x))\n",
    "        #x = F.relu(self.fc2(x))\n",
    "        #x = F.relu(self.fc3(x))\n",
    "        \n",
    "        #x = self.fc_(x)\n",
    "        \n",
    "        #x = F.relu(self.fcT1(x))\n",
    "        #x = F.relu(self.fcT2(x))\n",
    "        x = F.relu(self.fcT3(x))\n",
    "        x = x.reshape(8,64,174,94)\n",
    "        x = F.relu(self.convT1(x))\n",
    "        x = F.relu(self.convT2(x))\n",
    "        x = F.relu(self.convT3(x))\n",
    "        x = F.relu(self.convT4(x))\n",
    "        \n",
    "\n",
    "        return x.permute(0,2,3,1)"
   ]
  },
  {
   "cell_type": "code",
   "execution_count": null,
   "id": "9b807e06",
   "metadata": {},
   "outputs": [],
   "source": [
    "class Generator(nn.Module):\n",
    "    def __init__(self):\n",
    "        super(Generator,self).__init__()\n",
    "        self.conv1  = nn.Conv2d(4,16,3)\n",
    "        self.conv2  = nn.Conv2d(16,32,3)\n",
    "        self.conv3  = nn.Conv2d(32,48,3)\n",
    "        self.conv4  = nn.Conv2d(48,64,3)\n",
    "        self.pool = nn.MaxPool2d(2,return_indices=True)\n",
    "        \n",
    "        self.fc1 = nn.Linear(64*21*11,240)\n",
    "        self.fc2 = nn.Linear(240,64)\n",
    "        self.fc3 = nn.Linear(64,16)\n",
    "        \n",
    "        self.fc_ = nn.Linear(16,16)\n",
    "        \n",
    "        self.fcT1 = nn.Linear(16,64)\n",
    "        self.fcT2 = nn.Linear(64,240)\n",
    "        self.fcT3 = nn.Linear(240,64*21*11)\n",
    "        \n",
    "        \n",
    "        self.convT1 = nn.ConvTranspose2d(64,48,3)\n",
    "        self.convT2 = nn.ConvTranspose2d(48,32,4)\n",
    "        self.convT3 = nn.ConvTranspose2d(32,16,3)\n",
    "        self.convT4 = nn.ConvTranspose2d(16,4,3)\n",
    "        self.unpool = nn.MaxUnpool2d(2)\n",
    "        \n",
    "        \n",
    "    def forward(self,x) :\n",
    "        \n",
    "        x = x.permute(0,3, 1, 2)\n",
    "        batch_ = x.shape[0]\n",
    "        x,x_1 = self.pool(F.relu(self.conv1(x)))\n",
    "        x,x_2 = self.pool(F.relu(self.conv2(x)))\n",
    "        x,x_3 = self.pool(F.relu(self.conv3(x)))\n",
    "        x = F.relu(self.conv4(x))\n",
    "        x = torch.flatten(x,1)\n",
    "        x = F.relu(self.fc1(x))\n",
    "        x = F.relu(self.fc2(x))\n",
    "        x = F.relu(self.fc3(x))\n",
    "        x = self.fc_(x)\n",
    "        x = F.relu(self.fcT1(x))\n",
    "        x = F.relu(self.fcT2(x))\n",
    "        x = F.relu(self.fcT3(x))\n",
    "        x = x.reshape(batch_,64,21,11)\n",
    "        #x = torch.concat((x,x1),axis=-1)\n",
    "        x = self.unpool(F.relu(self.convT1(x)),x_3)\n",
    "        x = self.unpool(F.relu(self.convT2(x)),x_2)\n",
    "        #x = self.unpool(F.relu(self.convT3(x)),x_1)\n",
    "        #x = self.unpool(F.relu(self.convT4(x)),x_3)\n",
    "       \n",
    "     \n",
    "\n",
    "        \n",
    "        \n",
    "        return x.shape\n",
    "        return x.permute(0,2,3,1)"
   ]
  },
  {
   "cell_type": "code",
   "execution_count": null,
   "id": "1a6f8b14",
   "metadata": {},
   "outputs": [],
   "source": [
    "generator = Generator()\n"
   ]
  },
  {
   "cell_type": "code",
   "execution_count": null,
   "id": "0c28306f",
   "metadata": {},
   "outputs": [],
   "source": [
    "generator(noise_vector)"
   ]
  },
  {
   "cell_type": "code",
   "execution_count": null,
   "id": "5dc31ed8",
   "metadata": {},
   "outputs": [],
   "source": [
    "class Discriminator(nn.Module):\n",
    "    def __init__(self):\n",
    "        super(Discriminator,self).__init__()\n",
    "        self.conv1  = nn.Conv2d(3,64,3, bias=False)\n",
    "        self.conv2  = nn.Conv2d(64,64*2,5, bias=False)\n",
    "        self.conv3  = nn.Conv2d(64*2,1,10, bias=False)\n",
    "        self.pool = nn.MaxPool2d(2,2)\n",
    "        self.fc1 = nn.Linear(171,128)\n",
    "        self.fc2 = nn.Linear(128,64)\n",
    "        self.fc3 = nn.Linear(64,1)\n",
    "        self.sigmoid = nn.Sigmoid()\n",
    "    def forward(self,x) :\n",
    "        x = x.permute(0,3,1,2)\n",
    "        x = F.relu(self.pool((self.conv1(x))))\n",
    "        x = F.relu(self.pool((self.conv2(x))))\n",
    "        x = F.relu(self.pool((self.conv3(x))))\n",
    "        x = torch.flatten(x,1)\n",
    "        x = F.relu(self.fc1(x))\n",
    "        x = F.relu(self.fc2(x))\n",
    "        x = self.fc3(x)\n",
    "        x = torch.flatten(x,1)\n",
    "        \n",
    "        \n",
    "        return x"
   ]
  },
  {
   "cell_type": "code",
   "execution_count": null,
   "id": "27a3c55b",
   "metadata": {},
   "outputs": [],
   "source": [
    "generator = Generator().to(device)\n",
    "discriminator = Discriminator().to(device)"
   ]
  },
  {
   "cell_type": "code",
   "execution_count": null,
   "id": "6b9e9191",
   "metadata": {},
   "outputs": [],
   "source": [
    "adv_loss = nn.BCEWithLogitsLoss()"
   ]
  },
  {
   "cell_type": "code",
   "execution_count": null,
   "id": "ac9a1d9e",
   "metadata": {},
   "outputs": [],
   "source": [
    "def nn_loss(predicted, ground_truth, nh=3, nw=3):\n",
    "    v_pad = nh // 2\n",
    "    h_pad = nw // 2\n",
    "    val_pad = nn.ConstantPad2d((v_pad, v_pad, h_pad, h_pad), -10000)(ground_truth)\n",
    "\n",
    "    reference_tensors = []\n",
    "    for i_begin in range(0, nh):\n",
    "        \n",
    "        i_end = i_begin - nh + 1\n",
    "        i_end = None if i_end == 0 else i_end\n",
    "        for j_begin in range(0, nw):\n",
    "            j_end = j_begin - nw + 1\n",
    "            j_end = None if j_end == 0 else j_end\n",
    "            sub_tensor = val_pad[:, :, i_begin:i_end, j_begin:j_end]\n",
    "            reference_tensors.append(sub_tensor.unsqueeze(-1))\n",
    "    reference = torch.cat(reference_tensors, dim=-1)\n",
    "    ground_truth = ground_truth.unsqueeze(dim=-1)\n",
    "\n",
    "    predicted = predicted.unsqueeze(-1)\n",
    "    abs = torch.abs(reference - predicted)\n",
    "    norms = torch.sum(abs, dim=1)\n",
    "    loss,_ = torch.min(norms, dim=-1)\n",
    "    loss = torch.mean(loss)\n",
    "\n",
    "    return loss"
   ]
  },
  {
   "cell_type": "code",
   "execution_count": null,
   "id": "2f2c132f",
   "metadata": {},
   "outputs": [],
   "source": [
    "def gen_loss(fake_img,input_):\n",
    "    return adv_loss(fake_img,input_)"
   ]
  },
  {
   "cell_type": "code",
   "execution_count": null,
   "id": "e326f3c0",
   "metadata": {},
   "outputs": [],
   "source": [
    "def disc_loss(fake_img,target_img):\n",
    "    return adv_loss(fake_img+0.0001,target_img)"
   ]
  },
  {
   "cell_type": "code",
   "execution_count": null,
   "id": "6179f564",
   "metadata": {},
   "outputs": [],
   "source": [
    "learning_rate = 0.0001\n",
    "G_optimizer = optim.Adam(generator.parameters(), lr = learning_rate)\n",
    "D_optimizer = optim.Adam(discriminator.parameters(), lr = learning_rate)\n"
   ]
  },
  {
   "cell_type": "code",
   "execution_count": 6,
   "id": "41a49c35",
   "metadata": {},
   "outputs": [],
   "source": [
    "dataset = CustomDataset()\n",
    "data_loader = DataLoader(dataset,batch_size = 8)"
   ]
  },
  {
   "cell_type": "code",
   "execution_count": null,
   "id": "10a2008b",
   "metadata": {},
   "outputs": [],
   "source": [
    "num_epochs = 100"
   ]
  },
  {
   "cell_type": "code",
   "execution_count": null,
   "id": "2b9a23d8",
   "metadata": {
    "scrolled": true
   },
   "outputs": [],
   "source": [
    "for epochs in range(1,num_epochs+1):\n",
    "    for index, (real_img,real_img_noise,real_img_pose,target_img,target_img_noise,target_img_pose) in enumerate(data_loader):\n",
    "        D_optimizer.zero_grad()\n",
    "        \n",
    "        # Discriminator training ----\n",
    "        real_img = real_img.float()\n",
    "        real_img = real_img.to(device)\n",
    "        \n",
    "        target_img = target_img.float()\n",
    "        target_img = target_img.to(device)\n",
    "        target_img_noise = target_img_noise.to(device)\n",
    "        \n",
    "        real_img_noise = real_img_noise.float().to(device)\n",
    "        real_target = Variable(torch.ones(real_img.size(0)).to(device))\n",
    "        real_target = real_target.unsqueeze(1)\n",
    "\n",
    "        fake_target = Variable(torch.zeros(real_img.size(0)).to(device))\n",
    "        fake_target = fake_target.unsqueeze(1)\n",
    "        \n",
    "        output = discriminator(real_img)\n",
    "        D_real_loss = disc_loss(output,real_target)\n",
    "        D_real_loss.backward()\n",
    "        \n",
    "        \n",
    "        gen_input =torch.concat((real_img.reshape(8,200,120,3),target_img_noise.reshape(8,200,120,1)),axis=-1).to(device)\n",
    "        noise_vector = gen_input.to(device)\n",
    "        generated_img = generator(noise_vector)\n",
    "        output = discriminator(generated_img.detach())\n",
    "        D_fake_loss = disc_loss(output,fake_target)\n",
    "        D_fake_loss.backward()\n",
    "        D_optimizer.step()\n",
    "        \n",
    "        if index%100 == 0:\n",
    "            print(f'disc_loss={D_fake_loss.item() + D_real_loss.item()}')\n",
    "            \n",
    "        # Generator training ----\n",
    "        G_optimizer.zero_grad()\n",
    "        gen_output = discriminator(generated_img)\n",
    "        G_loss = gen_loss(gen_output,real_target)*10 + nn_loss(generated_img,target_img)\n",
    "        \n",
    "        if index%100 == 0:\n",
    "            print(f'gen_loss={G_loss.item()}')\n",
    "        G_loss.backward()\n",
    "        G_optimizer.step()\n",
    "    print(f'{epochs} done')"
   ]
  },
  {
   "cell_type": "code",
   "execution_count": null,
   "id": "18a5bb44",
   "metadata": {},
   "outputs": [],
   "source": [
    "generated_img[1].shape"
   ]
  },
  {
   "cell_type": "code",
   "execution_count": null,
   "id": "21fadb9f",
   "metadata": {},
   "outputs": [],
   "source": []
  },
  {
   "cell_type": "code",
   "execution_count": null,
   "id": "a0c68d40",
   "metadata": {},
   "outputs": [],
   "source": [
    "disc(imgs.reshape(200,120,3).to(device).float())"
   ]
  },
  {
   "cell_type": "code",
   "execution_count": null,
   "id": "67bae701",
   "metadata": {},
   "outputs": [],
   "source": [
    "import matplotlib.pyplot as plt"
   ]
  },
  {
   "cell_type": "code",
   "execution_count": null,
   "id": "09737750",
   "metadata": {},
   "outputs": [],
   "source": [
    "x=generated_img[4].detach().to('cpu').reshape(200,120,3)"
   ]
  },
  {
   "cell_type": "code",
   "execution_count": null,
   "id": "acfc262f",
   "metadata": {},
   "outputs": [],
   "source": [
    "x=x.numpy()"
   ]
  },
  {
   "cell_type": "code",
   "execution_count": null,
   "id": "6dca5791",
   "metadata": {},
   "outputs": [],
   "source": [
    "plt.imshow(x.astype(int))"
   ]
  },
  {
   "cell_type": "code",
   "execution_count": null,
   "id": "6bea58a2",
   "metadata": {},
   "outputs": [],
   "source": []
  }
 ],
 "metadata": {
  "kernelspec": {
   "display_name": "Python 3 (ipykernel)",
   "language": "python",
   "name": "python3"
  },
  "language_info": {
   "codemirror_mode": {
    "name": "ipython",
    "version": 3
   },
   "file_extension": ".py",
   "mimetype": "text/x-python",
   "name": "python",
   "nbconvert_exporter": "python",
   "pygments_lexer": "ipython3",
   "version": "3.9.15"
  }
 },
 "nbformat": 4,
 "nbformat_minor": 5
}
